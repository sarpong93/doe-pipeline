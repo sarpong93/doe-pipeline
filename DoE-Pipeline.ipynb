{
 "cells": [
  {
   "cell_type": "code",
   "execution_count": 8,
   "id": "408b0fb1-926b-4c41-98e8-15803a1999cb",
   "metadata": {
    "executionCancelledAt": null,
    "executionTime": 10,
    "lastExecutedAt": 1745508402731,
    "lastExecutedByKernel": "fc9278bd-ed61-4fa6-acd0-0e77ada40a9d",
    "lastScheduledRunId": null,
    "lastSuccessfullyExecutedCode": "import pandas as pd\nimport json\nfrom pandas.io.json import json_normalize"
   },
   "outputs": [],
   "source": [
    "import pandas as pd\n",
    "import json"
   ]
  },
  {
   "cell_type": "code",
   "execution_count": 9,
   "id": "e79342a8-2eeb-4bcc-92f0-70c5ebec76e5",
   "metadata": {
    "executionCancelledAt": null,
    "executionTime": 47,
    "lastExecutedAt": 1745508402778,
    "lastExecutedByKernel": "fc9278bd-ed61-4fa6-acd0-0e77ada40a9d",
    "lastScheduledRunId": null,
    "lastSuccessfullyExecutedCode": "def extract_tabular_data(file_path: str):\n    \"\"\"Extract data from a tabular file_format, with pandas.\"\"\"\n    if file_path.endswith('.csv'):\n        return pd.read_csv(file_path)\n    elif file_path.endswith('.parquet'):\n        return pd.read_parquet(file_path)\n    else:\n        raise Exception('Warning: Invalid file extension. Please try with .csv or .parquet!')\n"
   },
   "outputs": [],
   "source": [
    "def extract_tabular_data(file_path):\n",
    "    \"\"\"Extract data from a tabular file_format, with pandas.\n",
    "    :param file_path: the filepath where the csv/parquet file is stored.\"\"\"\n",
    "    if file_path.endswith('.csv'):\n",
    "        return pd.read_csv(file_path) #reading the file if csv\n",
    "    elif file_path.endswith('.parquet'):\n",
    "        return pd.read_parquet(file_path)#reading the file if parquet\n",
    "    else:\n",
    "        raise Exception('Warning: Invalid file extension. Please try with .csv or .parquet!')\n"
   ]
  },
  {
   "cell_type": "code",
   "execution_count": 10,
   "id": "ecbc91c2-e0cc-4ae7-a7e8-ab2a56f1a1a9",
   "metadata": {
    "executionCancelledAt": null,
    "executionTime": 47,
    "lastExecutedAt": 1745508402826,
    "lastExecutedByKernel": "fc9278bd-ed61-4fa6-acd0-0e77ada40a9d",
    "lastScheduledRunId": null,
    "lastSuccessfullyExecutedCode": "def extract_json_data(file_path):\n    \"\"\"Extract and flatten data from a JSON file.\"\"\"\n    with open(file_path,'r') as file:\n        data = json.load(file)\n    return pd.json_normalize(data)"
   },
   "outputs": [],
   "source": [
    "def extract_json_data(file_path):\n",
    "    \"\"\"Extract and flatten data from a JSON file.\n",
    "    :param file_path: the filepath where the JSON file is stored.\"\"\"\n",
    "    with open(file_path,'r') as file: \n",
    "        data = json.load(file) #loading the JSON file\n",
    "    return pd.json_normalize(data) "
   ]
  },
  {
   "cell_type": "code",
   "execution_count": 34,
   "id": "3cc22273-22b8-4f30-8c11-a746f884509f",
   "metadata": {
    "executionCancelledAt": null,
    "executionTime": 52,
    "lastExecutedAt": 1745508402878,
    "lastExecutedByKernel": "fc9278bd-ed61-4fa6-acd0-0e77ada40a9d",
    "lastScheduledRunId": null,
    "lastSuccessfullyExecutedCode": "def transform_electricity_sales_data(raw_data: pd.DataFrame):\n    \"\"\"\n    Transform electricity sales to find the total amount of electricity sold\n    in the residential and transportation sectors.\n    \n    To transform the electricity sales data, you'll need to do the following:\n    - Drop any records with NA values in the `price` column. Do this inplace.\n    - Only keep records with a `sectorName` of \"residential\" or \"transportation\".\n    - Create a `month` column using the first 4 characters of the values in `period`.\n    - Create a `year` column using the last 2 characters of the values in `period`.\n    - Return the transformed `DataFrame`, keeping only the columns `year`, `month`, `stateid`, `price` and `price-units`.\n    \"\"\"\n    #dropping the null values in the price column\n    raw_data['price'].dropna(inplace=True)\n    raw_data = raw_data[raw_data['sectorName'].isin(['residential','transportation'])]\n    raw_data['month'] = raw_data['period'].apply(lambda x:x[0:4])\n    raw_data['year'] = raw_data['period'].apply(lambda x:x[:-2])\n    relevant_columns = ['year', 'month', 'stateid', 'price', 'price-units']\n    raw_data = raw_data.loc[:,relevant_columns]\n    return raw_data"
   },
   "outputs": [],
   "source": [
    "def transform_electricity_sales_data(raw_data):\n",
    "    \"\"\"\n",
    "    Transform electricity sales to find the total amount of electricity sold\n",
    "    in the residential and transportation sectors.\n",
    "    \n",
    "    - Drop any records with NA values in the `price` column. Do this inplace.\n",
    "    - Only keep records with a `sectorName` of \"residential\" or \"transportation\".\n",
    "    - Create a `month` column using the first 4 characters of the values in `period`.\n",
    "    - Create a `year` column using the last 2 characters of the values in `period`.\n",
    "    - Return the transformed `DataFrame`, keeping only the columns `year`, `month`, `stateid`, `price` and `price-units`.\n",
    "    :param raw_data: dataframe to be transformed.\n",
    "    \"\"\"\n",
    "    \n",
    "    raw_data['price'].dropna(inplace=True) #dropping the null values in the price column\n",
    "    #returning rows where the column 'sectorName; is 'residential' or 'transportation'\n",
    "    raw_data = raw_data[raw_data['sectorName'].isin(['residential','transportation'])]\n",
    "    #creating the 'month' column based of the last 2 characters of the 'period' column\n",
    "    raw_data['month'] = raw_data['period'].apply(lambda x:x[-2:])\n",
    "    #creating the 'year' column based of the first 4 characters  of the 'period' column\n",
    "    raw_data['year'] = raw_data['period'].apply(lambda x:x[0:4])\n",
    "    #selecting the relevant columns \n",
    "    relevant_columns = ['year', 'month', 'stateid', 'price', 'price-units']\n",
    "    raw_data = raw_data.loc[:,relevant_columns]\n",
    "    return raw_data"
   ]
  },
  {
   "cell_type": "code",
   "execution_count": 12,
   "id": "66e6db3c-ebfa-4f7b-9668-eac8a01f4263",
   "metadata": {
    "executionCancelledAt": null,
    "executionTime": 47,
    "lastExecutedAt": 1745508402926,
    "lastExecutedByKernel": "fc9278bd-ed61-4fa6-acd0-0e77ada40a9d",
    "lastScheduledRunId": null,
    "lastSuccessfullyExecutedCode": "def load(dataframe: pd.DataFrame, file_path: str):\n    \"\"\"Load a DataFrame to a file in either CSV or Parquet format.\"\"\"\n    if file_path.endswith('.csv'):\n        return dataframe.to_csv(file_path)\n    elif file_path.endswith('.parquet'):\n        return dataframe.to_parquet(file_path)\n    else:\n        raise Exception(f'Warning: {filepath} is not a valid file type. Please try again!_')    "
   },
   "outputs": [],
   "source": [
    "def load(dataframe, file_path):\n",
    "    \"\"\"Load a DataFrame to a file in either CSV or Parquet format.\n",
    "    :param dataframe: the dataframe to be saved\n",
    "    :param file_path: the file path to save the dataframe to\"\"\"\n",
    "    if file_path.endswith('.csv'):\n",
    "        return dataframe.to_csv(file_path)#saving the file if csv\n",
    "    elif file_path.endswith('.parquet'):\n",
    "        return dataframe.to_parquet(file_path)#saving the file if parquet\n",
    "    else:\n",
    "        raise Exception(f'Warning: {filepath} is not a valid file type. Please try again!_')    "
   ]
  },
  {
   "cell_type": "code",
   "execution_count": 26,
   "id": "befd9c30-8fa0-465f-bfc4-675d25d51e62",
   "metadata": {
    "executionCancelledAt": null,
    "executionTime": 119,
    "lastExecutedAt": 1745508403045,
    "lastExecutedByKernel": "fc9278bd-ed61-4fa6-acd0-0e77ada40a9d",
    "lastScheduledRunId": null,
    "lastSuccessfullyExecutedCode": "# Ready for the moment of truth? It's time to test the functions that you wrote!\nraw_electricity_capability_df = extract_json_data(\"electricity_capability_nested.json\")\nraw_electricity_sales_df = extract_tabular_data(\"electricity_sales.csv\")\n\ncleaned_electricity_sales_df = transform_electricity_sales_data(raw_electricity_sales_df)\n\nload(raw_electricity_capability_df, \"loaded__electricity_capability.parquet\")\nload(cleaned_electricity_sales_df, \"loaded__electricity_sales.csv\")"
   },
   "outputs": [
    {
     "name": "stderr",
     "output_type": "stream",
     "text": [
      "/var/folders/lw/g7z_6zs148v1v5vx7dg8npnc0000gn/T/ipykernel_2070/1593864100.py:18: SettingWithCopyWarning: \n",
      "A value is trying to be set on a copy of a slice from a DataFrame.\n",
      "Try using .loc[row_indexer,col_indexer] = value instead\n",
      "\n",
      "See the caveats in the documentation: https://pandas.pydata.org/pandas-docs/stable/user_guide/indexing.html#returning-a-view-versus-a-copy\n",
      "  raw_data['month'] = raw_data['period'].apply(lambda x:x[-2:])\n",
      "/var/folders/lw/g7z_6zs148v1v5vx7dg8npnc0000gn/T/ipykernel_2070/1593864100.py:20: SettingWithCopyWarning: \n",
      "A value is trying to be set on a copy of a slice from a DataFrame.\n",
      "Try using .loc[row_indexer,col_indexer] = value instead\n",
      "\n",
      "See the caveats in the documentation: https://pandas.pydata.org/pandas-docs/stable/user_guide/indexing.html#returning-a-view-versus-a-copy\n",
      "  raw_data['year'] = raw_data['period'].apply(lambda x:x[0:4])\n"
     ]
    }
   ],
   "source": [
    "#testing the functions\n",
    "raw_electricity_capability_df = extract_json_data(\"electricity_capability_nested.json\")\n",
    "raw_electricity_sales_df = extract_tabular_data(\"electricity_sales.csv\")\n",
    "\n",
    "cleaned_electricity_sales_df = transform_electricity_sales_data(raw_electricity_sales_df)\n",
    "\n",
    "load(raw_electricity_capability_df, \"loaded__electricity_capability.parquet\")\n",
    "load(cleaned_electricity_sales_df, \"loaded__electricity_sales.csv\")"
   ]
  }
 ],
 "metadata": {
  "colab": {
   "name": "Welcome to DataCamp Workspaces.ipynb",
   "provenance": []
  },
  "editor": "DataLab",
  "kernelspec": {
   "display_name": "Python 3 (ipykernel)",
   "language": "python",
   "name": "python3"
  },
  "language_info": {
   "codemirror_mode": {
    "name": "ipython",
    "version": 3
   },
   "file_extension": ".py",
   "mimetype": "text/x-python",
   "name": "python",
   "nbconvert_exporter": "python",
   "pygments_lexer": "ipython3",
   "version": "3.12.4"
  }
 },
 "nbformat": 4,
 "nbformat_minor": 5
}
